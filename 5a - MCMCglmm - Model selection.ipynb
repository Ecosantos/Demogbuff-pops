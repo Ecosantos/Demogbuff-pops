{
  "nbformat": 4,
  "nbformat_minor": 0,
  "metadata": {
    "colab": {
      "provenance": [],
      "gpuType": "V28"
    },
    "kernelspec": {
      "name": "ir",
      "display_name": "R"
    },
    "language_info": {
      "name": "R"
    },
    "accelerator": "TPU"
  },
  "cells": [
    {
      "cell_type": "code",
      "source": [
        "#'##########################################################\n",
        "#\t  \t MODEL SELECTION\n",
        "# \ta sript for  the project\n",
        "#\tDEMOGRAPHIC BUFFERING CONTINUUM in PLANTS AND ANIMALS\n",
        "#\t\t\t by Gabriel Santos\n",
        "# \tcontact by ssantos.gabriel@gmail.com\n",
        "#\t\t\t    05 March 2025\n",
        "#' ---------------------------------------------------------\n",
        "# Rationale: We must decide between better model composition\n",
        "# as Environmental PCA included until 3 axes\n",
        "# revealing these three potential relevant source of information #\n",
        "#'##########################################################\n",
        "\n",
        "rm(list=ls())\n",
        "\n",
        "# Define necessary packages\n",
        "need_pkgs <- c(\"tidyverse\", \"plotMCMC\", \"mcmcr\", \"MuMIn\", \"MCMCglmm\",\"MuMIn\")\n",
        "\n",
        "exist_pckgs<-exist_pckgs <- installed.packages()[, \"Package\"]\n",
        "\n",
        "if (any(!need_pkgs %in% exist_pckgs)) {   # Check for inexisting packages and install them\n",
        "  install.packages(need_pkgs[!need_pkgs %in% exist_pckgs])\n",
        "}\n"
      ],
      "metadata": {
        "colab": {
          "base_uri": "https://localhost:8080/"
        },
        "id": "uF_0Bfg8qyOf",
        "outputId": "2e898174-557e-4eb5-e463-f005ff652e71"
      },
      "execution_count": 14,
      "outputs": [
        {
          "output_type": "stream",
          "name": "stderr",
          "text": [
            "Installing packages into ‘/usr/local/lib/R/site-library’\n",
            "(as ‘lib’ is unspecified)\n",
            "\n",
            "also installing the dependencies ‘bitops’, ‘gtools’, ‘caTools’, ‘coda’, ‘gplots’, ‘abind’, ‘chk’, ‘extras’, ‘nlist’, ‘term’, ‘universals’, ‘insight’, ‘ape’, ‘corpcor’, ‘tensorA’, ‘cubature’\n",
            "\n",
            "\n"
          ]
        }
      ]
    },
    {
      "cell_type": "code",
      "source": [
        "# load non-existing packages\n",
        "lapply(need_pkgs, require, character.only = TRUE)\n",
        "\n",
        "rm(list=ls())"
      ],
      "metadata": {
        "colab": {
          "base_uri": "https://localhost:8080/",
          "height": 1000
        },
        "id": "Gbh3okfFrtkl",
        "outputId": "3f563991-a662-4329-cbf2-a67f2c9418e0"
      },
      "execution_count": 16,
      "outputs": [
        {
          "output_type": "stream",
          "name": "stderr",
          "text": [
            "Loading required package: tidyverse\n",
            "\n",
            "── \u001b[1mAttaching core tidyverse packages\u001b[22m ──────────────────────── tidyverse 2.0.0 ──\n",
            "\u001b[32m✔\u001b[39m \u001b[34mdplyr    \u001b[39m 1.1.4     \u001b[32m✔\u001b[39m \u001b[34mreadr    \u001b[39m 2.1.5\n",
            "\u001b[32m✔\u001b[39m \u001b[34mforcats  \u001b[39m 1.0.0     \u001b[32m✔\u001b[39m \u001b[34mstringr  \u001b[39m 1.5.1\n",
            "\u001b[32m✔\u001b[39m \u001b[34mggplot2  \u001b[39m 3.5.1     \u001b[32m✔\u001b[39m \u001b[34mtibble   \u001b[39m 3.2.1\n",
            "\u001b[32m✔\u001b[39m \u001b[34mlubridate\u001b[39m 1.9.4     \u001b[32m✔\u001b[39m \u001b[34mtidyr    \u001b[39m 1.3.1\n",
            "\u001b[32m✔\u001b[39m \u001b[34mpurrr    \u001b[39m 1.0.4     \n",
            "── \u001b[1mConflicts\u001b[22m ────────────────────────────────────────── tidyverse_conflicts() ──\n",
            "\u001b[31m✖\u001b[39m \u001b[34mdplyr\u001b[39m::\u001b[32mfilter()\u001b[39m masks \u001b[34mstats\u001b[39m::filter()\n",
            "\u001b[31m✖\u001b[39m \u001b[34mdplyr\u001b[39m::\u001b[32mlag()\u001b[39m    masks \u001b[34mstats\u001b[39m::lag()\n",
            "\u001b[36mℹ\u001b[39m Use the conflicted package (\u001b[3m\u001b[34m<http://conflicted.r-lib.org/>\u001b[39m\u001b[23m) to force all conflicts to become errors\n",
            "Loading required package: plotMCMC\n",
            "\n",
            "Loading required package: mcmcr\n",
            "\n",
            "Registered S3 method overwritten by 'mcmcr':\n",
            "  method         from \n",
            "  as.mcmc.nlists nlist\n",
            "\n",
            "Loading required package: MuMIn\n",
            "\n",
            "Loading required package: MCMCglmm\n",
            "\n",
            "Loading required package: Matrix\n",
            "\n",
            "\n",
            "Attaching package: ‘Matrix’\n",
            "\n",
            "\n",
            "The following objects are masked from ‘package:tidyr’:\n",
            "\n",
            "    expand, pack, unpack\n",
            "\n",
            "\n",
            "Loading required package: coda\n",
            "\n",
            "Loading required package: ape\n",
            "\n",
            "\n",
            "Attaching package: ‘ape’\n",
            "\n",
            "\n",
            "The following object is masked from ‘package:dplyr’:\n",
            "\n",
            "    where\n",
            "\n",
            "\n"
          ]
        },
        {
          "output_type": "display_data",
          "data": {
            "text/html": [
              "<ol>\n",
              "\t<li>TRUE</li>\n",
              "\t<li>TRUE</li>\n",
              "\t<li>TRUE</li>\n",
              "\t<li>TRUE</li>\n",
              "\t<li>TRUE</li>\n",
              "\t<li>TRUE</li>\n",
              "</ol>\n"
            ],
            "text/markdown": "1. TRUE\n2. TRUE\n3. TRUE\n4. TRUE\n5. TRUE\n6. TRUE\n\n\n",
            "text/latex": "\\begin{enumerate}\n\\item TRUE\n\\item TRUE\n\\item TRUE\n\\item TRUE\n\\item TRUE\n\\item TRUE\n\\end{enumerate}\n",
            "text/plain": [
              "[[1]]\n",
              "[1] TRUE\n",
              "\n",
              "[[2]]\n",
              "[1] TRUE\n",
              "\n",
              "[[3]]\n",
              "[1] TRUE\n",
              "\n",
              "[[4]]\n",
              "[1] TRUE\n",
              "\n",
              "[[5]]\n",
              "[1] TRUE\n",
              "\n",
              "[[6]]\n",
              "[1] TRUE\n"
            ]
          },
          "metadata": {}
        }
      ]
    },
    {
      "cell_type": "code",
      "source": [
        "\n",
        "#'===========================================================\n",
        "# ----- LOAD data ready for GLMM analyses ----\n",
        "# GLMM data contains:\n",
        "#  - Data model\n",
        "#  - subtree_Animals - Phylogenetic tree for Animals ready for analysis\n",
        "#  - subtree_Animals - Phylogenetic tree for Plants ready for analysis\n",
        "#'===========================================================\n",
        "# Download data In Google colab\n",
        " GLMMdata_link<-\"https://github.com/Ecosantos/Demogbuff-pops/raw/refs/heads/incorporating-MCMCGlmm/Data/GLMMdata.Rdata\"\n",
        " download.file(GLMMdata_link, \"GLMMdata.Rdata\", mode = \"wb\")\n",
        "\n",
        "\n",
        "load(\"Data/GLMMdata.Rdata\")"
      ],
      "metadata": {
        "colab": {
          "base_uri": "https://localhost:8080/",
          "height": 320
        },
        "id": "DndxY6GDq0-h",
        "outputId": "174b32fb-48e4-43fc-83e9-9b84b23c6d8e"
      },
      "execution_count": 18,
      "outputs": [
        {
          "output_type": "stream",
          "name": "stderr",
          "text": [
            "Warning message in readChar(con, 5L, useBytes = TRUE):\n",
            "“cannot open compressed file 'Data/GLMMdata.Rdata', probable reason 'No such file or directory'”\n"
          ]
        },
        {
          "output_type": "error",
          "ename": "ERROR",
          "evalue": "Error in readChar(con, 5L, useBytes = TRUE): cannot open the connection\n",
          "traceback": [
            "Error in readChar(con, 5L, useBytes = TRUE): cannot open the connection\nTraceback:\n",
            "1. readChar(con, 5L, useBytes = TRUE)",
            "2. .handleSimpleError(function (cnd) \n . {\n .     watcher$capture_plot_and_output()\n .     cnd <- sanitize_call(cnd)\n .     watcher$push(cnd)\n .     switch(on_error, continue = invokeRestart(\"eval_continue\"), \n .         stop = invokeRestart(\"eval_stop\"), error = NULL)\n . }, \"cannot open the connection\", base::quote(readChar(con, 5L, \n .     useBytes = TRUE)))"
          ]
        }
      ]
    },
    {
      "cell_type": "code",
      "execution_count": null,
      "metadata": {
        "id": "2q-mh6jbqpd9"
      },
      "outputs": [],
      "source": [
        "data_model%>%glimpse()\n",
        "\n",
        "hist(data_model$Cumulative_SigElas) # must be absolute values!\n",
        "\n",
        "#'===========================================================\n",
        "# ---- Define priors ----\n",
        "#'===========================================================\n",
        "\n",
        "\n",
        "prior_phylo<-list(G=list(G1=list(V=1,nu=0.02)),\n",
        "                  R=list(V=1,nu=0.02))\n",
        "\n",
        "# Prior for simple model will be removed.\n",
        "# It will run with prior_phylo for standardization!\n",
        "#prior_simple<-list(G=list(R=list(V=1,nu=0.02)))\n",
        "\n",
        "nitt=100000; #nitt=1000\n",
        "burnin=1000; #burnin=100\n",
        "thin=10\n",
        "\n",
        "glmmScale<-\"FALSE\"\n",
        "\n",
        "#'===========================================================\n",
        "# ---- Create models manually ----\n",
        "#'===========================================================\n",
        "# A function was created to reduce code\n",
        "fit_mcmcglmm <- function(formula) {\n",
        "  MCMCglmm(\n",
        "    formula,  # Garantir que a fórmula seja interpretada corretamente\n",
        "    random = ~phylo,\n",
        "    family = \"gaussian\",\n",
        "    ginverse = list(phylo = inverseA(subtree_Plants, nodes = \"TIPS\", scale = TRUE)$Ainv),\n",
        "    prior = prior_phylo,\n",
        "    data = subset(data_model, Kingdom == \"Plantae\"),\n",
        "    nitt = nitt,\n",
        "    burnin = burnin,\n",
        "    thin = thin,\n",
        "    singular.ok = TRUE,\n",
        "    scale = glmmScale\n",
        "  )\n",
        "}\n",
        "\n",
        "\n",
        "# Models with interactions\n",
        "Clim123 <- fit_mcmcglmm(Cumulative_SigElas ~ LHPC.1 * LHPC.2 + ClimPC.1 * ClimPC.2 * ClimPC.3)\n",
        "Clim12 <- fit_mcmcglmm(Cumulative_SigElas ~ LHPC.1 * LHPC.2 + ClimPC.1 * ClimPC.2)\n",
        "Clim13 <- fit_mcmcglmm(Cumulative_SigElas ~ LHPC.1 * LHPC.2 + ClimPC.1 * ClimPC.3)\n",
        "Clim23 <- fit_mcmcglmm(Cumulative_SigElas ~ LHPC.1 * LHPC.2 + ClimPC.2 * ClimPC.3)\n",
        "\n",
        "#Aditive models\n",
        "Clim123_plus<-fit_mcmcglmm(Cumulative_SigElas~LHPC.1 * LHPC.2 + ClimPC.1 + ClimPC.2 + ClimPC.3)\n",
        "Clim12_plus<-fit_mcmcglmm(Cumulative_SigElas~LHPC.1 * LHPC.2 + ClimPC.1 + ClimPC.2)\n",
        "\n",
        "# Aditive for life history and climatic data\n",
        "Clim12_plus_only<-fit_mcmcglmm(Cumulative_SigElas~LHPC.1 + LHPC.2 + ClimPC.1 + ClimPC.2)\n",
        "\n",
        "# Models with single climatic variable\n",
        "Clim1 <- fit_mcmcglmm(Cumulative_SigElas ~ LHPC.1 * LHPC.2 + ClimPC.1)\n",
        "Clim2 <- fit_mcmcglmm(Cumulative_SigElas ~ LHPC.1 * LHPC.2 + ClimPC.2)\n",
        "Clim3 <- fit_mcmcglmm(Cumulative_SigElas ~ LHPC.1 * LHPC.2 + ClimPC.3)\n",
        "\n",
        "\n",
        "forms<-lapply(\n",
        "  lapply(\n",
        "    list(Clim1,Clim2,Clim3,\n",
        "         Clim123,\n",
        "         Clim12,Clim13,Clim23,\n",
        "         Clim123_plus,Clim12_plus,\n",
        "         Clim12_plus_only),formula),\n",
        "          function(f) paste(deparse(formula(f)), collapse = \"\"))%>%do.call(rbind,.)\n",
        "\n",
        "mod_out<-cbind(formulas=forms,\n",
        "  BIC(Clim1,Clim2,Clim3,Clim123,Clim12,Clim13,Clim23,Clim123_plus,Clim12_plus,Clim12_plus_only),\n",
        "  AIC=AIC(Clim1,Clim2,Clim3,Clim123,Clim12,Clim13,Clim23,Clim123_plus,Clim12_plus,Clim12_plus_only)[,2],\n",
        "  DIC=DIC(Clim1,Clim2,Clim3,Clim123,Clim12,Clim13,Clim2,Clim123_plus,Clim12_plus,Clim12_plus_only)[,2])%>%\n",
        "  arrange(DIC)\n",
        "\n",
        "mod_out\n",
        "\n",
        "\n",
        "Clim12%>%summary()\n",
        "\n",
        "allChains <- mcmcr::as.mcmc(cbind(Clim12$Sol,Clim12$VCV))\n",
        "plotMCMC::plotTrace(allChains)\n",
        "\n",
        "\n",
        "# Compare some models if necessary\n",
        "#summary(Clim123)\n",
        "#summary(Clim123_plus)\n",
        "#summary(Clim12_plus)\n",
        "#summary(Clim1)\n",
        "#summary(Clim12)\n",
        "#summary(Clim13)\n",
        "\n",
        "\n",
        "\n",
        "\n",
        "\n",
        "\n",
        "\n"
      ]
    }
  ]
}